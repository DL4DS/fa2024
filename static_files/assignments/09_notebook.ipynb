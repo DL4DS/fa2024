{
  "nbformat": 4,
  "nbformat_minor": 0,
  "metadata": {
    "colab": {
      "provenance": [],
      "gpuType": "T4"
    },
    "kernelspec": {
      "name": "python3",
      "display_name": "Python 3"
    },
    "language_info": {
      "name": "python"
    },
    "accelerator": "GPU"
  },
  "cells": [
    {
      "cell_type": "markdown",
      "source": [
        "# DS 542 Fall 2024 Notebook 9\n",
        "\n",
        "The goal of this homework is to practice working with neural networks and modifying their architecture.\n",
        "\n",
        "You will need to do the following with this notebook.\n",
        "1. Load the MNIST test data into separate variables.\n",
        "2. Modify the `MyNetwork` class to achieve at least a 98% training accuracy within 10 epochs. (This should be a pretty small change.)\n",
        "2. Modify the `train_model` function to plot test loss and accuracy in addition to the training stats.\n",
        "3. Fill in the implementation of the `MyThreeHiddenLayerNetwork` class to use a neural network with three hidden layers.\n"
      ],
      "metadata": {
        "id": "lNSQI0Jp-Cjg"
      }
    },
    {
      "cell_type": "markdown",
      "source": [
        "## Module Setup"
      ],
      "metadata": {
        "id": "qrXrt6Kj-Er8"
      }
    },
    {
      "cell_type": "code",
      "source": [
        "!pip install livelossplot --quiet\n",
        "!pip install torcheval --quiet"
      ],
      "metadata": {
        "id": "CgiisK0C99sG"
      },
      "execution_count": 30,
      "outputs": []
    },
    {
      "cell_type": "code",
      "execution_count": 31,
      "metadata": {
        "id": "KDYJ9KUMuJxX"
      },
      "outputs": [],
      "source": [
        "import livelossplot\n",
        "import matplotlib.pyplot as plt\n",
        "import torch\n",
        "import torcheval.metrics\n",
        "import torchvision"
      ]
    },
    {
      "cell_type": "markdown",
      "source": [
        "## GPU Setup"
      ],
      "metadata": {
        "id": "gqNgWodaAmVB"
      }
    },
    {
      "cell_type": "code",
      "source": [
        "def to_gpu(t):\n",
        "    if torch.cuda.is_available():\n",
        "        return t.cuda()\n",
        "    return t\n",
        "\n",
        "def to_numpy(t):\n",
        "    return t.detach().cpu().numpy()\n",
        "\n",
        "device = to_gpu(torch.ones(1,1)).device\n",
        "device"
      ],
      "metadata": {
        "colab": {
          "base_uri": "https://localhost:8080/"
        },
        "id": "179iUzQGAqDU",
        "outputId": "74b092c7-a153-4cae-8e85-f650906fa83e"
      },
      "execution_count": 32,
      "outputs": [
        {
          "output_type": "execute_result",
          "data": {
            "text/plain": [
              "device(type='cuda', index=0)"
            ]
          },
          "metadata": {},
          "execution_count": 32
        }
      ]
    },
    {
      "cell_type": "markdown",
      "source": [
        "## Load MNIST Data Set"
      ],
      "metadata": {
        "id": "LqIWCPhZ-GWH"
      }
    },
    {
      "cell_type": "code",
      "source": [
        "torchvision.datasets.MNIST"
      ],
      "metadata": {
        "colab": {
          "base_uri": "https://localhost:8080/",
          "height": 203
        },
        "id": "QFUMt5m4vDCf",
        "outputId": "154a519a-2097-4d6a-b808-32517073508e"
      },
      "execution_count": 33,
      "outputs": [
        {
          "output_type": "execute_result",
          "data": {
            "text/plain": [
              "torchvision.datasets.mnist.MNIST"
            ],
            "text/html": [
              "<div style=\"max-width:800px; border: 1px solid var(--colab-border-color);\"><style>\n",
              "      pre.function-repr-contents {\n",
              "        overflow-x: auto;\n",
              "        padding: 8px 12px;\n",
              "        max-height: 500px;\n",
              "      }\n",
              "\n",
              "      pre.function-repr-contents.function-repr-contents-collapsed {\n",
              "        cursor: pointer;\n",
              "        max-height: 100px;\n",
              "      }\n",
              "    </style>\n",
              "    <pre style=\"white-space: initial; background:\n",
              "         var(--colab-secondary-surface-color); padding: 8px 12px;\n",
              "         border-bottom: 1px solid var(--colab-border-color);\"><b>torchvision.datasets.mnist.MNIST</b><br/>def __init__(root: Union[str, Path], train: bool=True, transform: Optional[Callable]=None, target_transform: Optional[Callable]=None, download: bool=False) -&gt; None</pre><pre class=\"function-repr-contents function-repr-contents-collapsed\" style=\"\"><a class=\"filepath\" style=\"display:none\" href=\"#\">/usr/local/lib/python3.10/dist-packages/torchvision/datasets/mnist.py</a>`MNIST &lt;http://yann.lecun.com/exdb/mnist/&gt;`_ Dataset.\n",
              "\n",
              "Args:\n",
              "    root (str or ``pathlib.Path``): Root directory of dataset where ``MNIST/raw/train-images-idx3-ubyte``\n",
              "        and  ``MNIST/raw/t10k-images-idx3-ubyte`` exist.\n",
              "    train (bool, optional): If True, creates dataset from ``train-images-idx3-ubyte``,\n",
              "        otherwise from ``t10k-images-idx3-ubyte``.\n",
              "    download (bool, optional): If True, downloads the dataset from the internet and\n",
              "        puts it in root directory. If dataset is already downloaded, it is not\n",
              "        downloaded again.\n",
              "    transform (callable, optional): A function/transform that  takes in a PIL image\n",
              "        and returns a transformed version. E.g, ``transforms.RandomCrop``\n",
              "    target_transform (callable, optional): A function/transform that takes in the\n",
              "        target and transforms it.</pre>\n",
              "      <script>\n",
              "      if (google.colab.kernel.accessAllowed && google.colab.files && google.colab.files.view) {\n",
              "        for (const element of document.querySelectorAll('.filepath')) {\n",
              "          element.style.display = 'block'\n",
              "          element.onclick = (event) => {\n",
              "            event.preventDefault();\n",
              "            event.stopPropagation();\n",
              "            google.colab.files.view(element.textContent, 20);\n",
              "          };\n",
              "        }\n",
              "      }\n",
              "      for (const element of document.querySelectorAll('.function-repr-contents')) {\n",
              "        element.onclick = (event) => {\n",
              "          event.preventDefault();\n",
              "          event.stopPropagation();\n",
              "          element.classList.toggle('function-repr-contents-collapsed');\n",
              "        };\n",
              "      }\n",
              "      </script>\n",
              "      </div>"
            ]
          },
          "metadata": {},
          "execution_count": 33
        }
      ]
    },
    {
      "cell_type": "code",
      "source": [
        "transform = torchvision.transforms.Compose([\n",
        "    torchvision.transforms.ToTensor(),  # Convert the image to a tensor\n",
        "    #torchvision.transforms.Normalize([0.0], [255.0]),\n",
        "])\n",
        "\n",
        "# Load the training dataset\n",
        "train_dataset = torchvision.datasets.MNIST(root='./data', train=True, download=True, transform=transform)"
      ],
      "metadata": {
        "id": "wOXFuEC-u0B4"
      },
      "execution_count": 34,
      "outputs": []
    },
    {
      "cell_type": "code",
      "source": [
        "train_dataset.data.shape"
      ],
      "metadata": {
        "colab": {
          "base_uri": "https://localhost:8080/"
        },
        "id": "P5-ksor_vZqT",
        "outputId": "d4814cad-031f-4cc7-e8df-8d9bcd458ae1"
      },
      "execution_count": 35,
      "outputs": [
        {
          "output_type": "execute_result",
          "data": {
            "text/plain": [
              "torch.Size([60000, 28, 28])"
            ]
          },
          "metadata": {},
          "execution_count": 35
        }
      ]
    },
    {
      "cell_type": "code",
      "source": [
        "train_dataset.targets"
      ],
      "metadata": {
        "colab": {
          "base_uri": "https://localhost:8080/"
        },
        "id": "srt89d7zvhaP",
        "outputId": "8cbe9aa2-45f3-44cc-cae2-4494657def27"
      },
      "execution_count": 36,
      "outputs": [
        {
          "output_type": "execute_result",
          "data": {
            "text/plain": [
              "tensor([5, 0, 4,  ..., 5, 6, 8])"
            ]
          },
          "metadata": {},
          "execution_count": 36
        }
      ]
    },
    {
      "cell_type": "code",
      "source": [
        "train_dataset.targets"
      ],
      "metadata": {
        "colab": {
          "base_uri": "https://localhost:8080/"
        },
        "id": "xA-5FTn5wUH-",
        "outputId": "38257e92-f80a-4dbd-92df-e44b6ae2da87"
      },
      "execution_count": 37,
      "outputs": [
        {
          "output_type": "execute_result",
          "data": {
            "text/plain": [
              "tensor([5, 0, 4,  ..., 5, 6, 8])"
            ]
          },
          "metadata": {},
          "execution_count": 37
        }
      ]
    },
    {
      "cell_type": "code",
      "source": [
        "train_dataset.targets.shape"
      ],
      "metadata": {
        "colab": {
          "base_uri": "https://localhost:8080/"
        },
        "id": "WRwzm8i3wJ93",
        "outputId": "074e7153-34a1-4df2-bfa7-1714d18a4336"
      },
      "execution_count": 38,
      "outputs": [
        {
          "output_type": "execute_result",
          "data": {
            "text/plain": [
              "torch.Size([60000])"
            ]
          },
          "metadata": {},
          "execution_count": 38
        }
      ]
    },
    {
      "cell_type": "code",
      "source": [
        "# Load and prepare test data.\n",
        "\n",
        "# YOUR CHANGES HERE"
      ],
      "metadata": {
        "id": "Leg8sGW5ENvg"
      },
      "execution_count": null,
      "outputs": []
    },
    {
      "cell_type": "markdown",
      "source": [
        "### Data Loader for Batching"
      ],
      "metadata": {
        "id": "OW2jjt1Aq9cJ"
      }
    },
    {
      "cell_type": "code",
      "source": [
        "train_data_loader = torch.utils.data.DataLoader(train_dataset, batch_size=1000)"
      ],
      "metadata": {
        "id": "ZW2NNvSgxB3M"
      },
      "execution_count": 39,
      "outputs": []
    },
    {
      "cell_type": "code",
      "source": [
        "# shenanigans to get full batch of training data after running through the dataset transform.\n",
        "# iterating train_dataset only gives one row at a time.\n",
        "for (train_X, train_Y) in torch.utils.data.DataLoader(train_dataset, batch_size=100000):\n",
        "    break\n",
        "train_Y = to_gpu(train_Y)"
      ],
      "metadata": {
        "id": "qf2Iq4XDrBY3"
      },
      "execution_count": 40,
      "outputs": []
    },
    {
      "cell_type": "markdown",
      "source": [
        "### Visualize a Row"
      ],
      "metadata": {
        "id": "Wa9hauIl-NRT"
      }
    },
    {
      "cell_type": "code",
      "source": [
        "plt.imshow(train_dataset.data[0])"
      ],
      "metadata": {
        "colab": {
          "base_uri": "https://localhost:8080/",
          "height": 447
        },
        "id": "aeq8_FxRw7tg",
        "outputId": "310402fe-1776-4c33-ee98-004204f85a82"
      },
      "execution_count": 41,
      "outputs": [
        {
          "output_type": "execute_result",
          "data": {
            "text/plain": [
              "<matplotlib.image.AxesImage at 0x7ee83ccd11b0>"
            ]
          },
          "metadata": {},
          "execution_count": 41
        },
        {
          "output_type": "display_data",
          "data": {
            "text/plain": [
              "<Figure size 640x480 with 1 Axes>"
            ],
            "image/png": "[encoded data removed]"
          },
          "metadata": {}
        }
      ]
    },
    {
      "cell_type": "code",
      "source": [
        "train_dataset.targets[0]"
      ],
      "metadata": {
        "colab": {
          "base_uri": "https://localhost:8080/"
        },
        "id": "RyJAIJ8TxJ75",
        "outputId": "67f34536-67e2-4481-9ff5-08d3e0a6f891"
      },
      "execution_count": 42,
      "outputs": [
        {
          "output_type": "execute_result",
          "data": {
            "text/plain": [
              "tensor(5)"
            ]
          },
          "metadata": {},
          "execution_count": 42
        }
      ]
    },
    {
      "cell_type": "markdown",
      "source": [
        "## Configure Neural Network"
      ],
      "metadata": {
        "id": "-VtjlsBr84Ut"
      }
    },
    {
      "cell_type": "code",
      "source": [
        "# Modify this network so that it achieves 98% training accuracy within 10 epochs of training.\n",
        "\n",
        "# YOUR CHANGES HERE\n",
        "\n",
        "class MyNetwork(torch.nn.Module):\n",
        "    def __init__(self):\n",
        "        super().__init__()\n",
        "\n",
        "        hidden_width = 16\n",
        "\n",
        "        self.fc_0 = torch.nn.Linear(28*28, hidden_width, device=device)\n",
        "        self.fc_1 = torch.nn.Linear(hidden_width, 10, device=device)\n",
        "\n",
        "        self.relu = torch.nn.ReLU()\n",
        "\n",
        "    def forward(self, X):\n",
        "        target_shape = X.shape[:1] + (28*28,)\n",
        "        X = X.reshape(*target_shape)\n",
        "\n",
        "        # first hidden layer\n",
        "        X = self.fc_0(X)\n",
        "        X = self.relu(X)\n",
        "\n",
        "        # output layer is logits - no softmax\n",
        "        X = self.fc_1(X)\n",
        "\n",
        "        return X\n"
      ],
      "metadata": {
        "id": "wqIqJcf3wY-u"
      },
      "execution_count": 61,
      "outputs": []
    },
    {
      "cell_type": "markdown",
      "source": [
        "This loss function will take in logits (softmax inputs) and target values (indices).\n",
        "The PyTorch documentation says this will be more efficient than having the network output probabilities from softmax."
      ],
      "metadata": {
        "id": "dXRZJjVJ9VjZ"
      }
    },
    {
      "cell_type": "code",
      "source": [
        "loss_function = torch.nn.CrossEntropyLoss()"
      ],
      "metadata": {
        "id": "c54uHAR-9e4e"
      },
      "execution_count": 44,
      "outputs": []
    },
    {
      "cell_type": "markdown",
      "source": [
        "## Training Loop"
      ],
      "metadata": {
        "id": "QIAzxrdv9hI9"
      }
    },
    {
      "cell_type": "code",
      "source": [
        "DEFAULT_EPOCHS = 1000 if torch.cuda.is_available() else 100\n",
        "\n",
        "def train_model(model_class, epochs=DEFAULT_EPOCHS, learning_rate=1e-4, **kwargs):\n",
        "    model = model_class(**kwargs)\n",
        "    try:\n",
        "        model = model.cuda()\n",
        "    except:\n",
        "        print(\"cuda() failed\")\n",
        "    model = torch.nn.DataParallel(model)\n",
        "    model.train()\n",
        "    optimizer = torch.optim.Adam(model.parameters(), lr=learning_rate)\n",
        "\n",
        "    liveloss = livelossplot.PlotLosses()\n",
        "    for i in range(epochs):\n",
        "        model.train()\n",
        "        for (batch_X, batch_Y) in train_data_loader:\n",
        "\n",
        "            optimizer.zero_grad(set_to_none=True)\n",
        "            prediction = model(batch_X)\n",
        "            loss = loss_function(prediction, to_gpu(batch_Y))\n",
        "            loss.backward()\n",
        "            optimizer.step()\n",
        "\n",
        "        if (i + 1) % 2 == 0:\n",
        "            # ADD TEST ACCURACY AND LOSS STATS TO CHARTS\n",
        "\n",
        "            # YOUR CHANGES HERE\n",
        "            with torch.no_grad():\n",
        "                model.eval()\n",
        "                prediction = model(train_X)\n",
        "                loss = loss_function(prediction, train_Y)\n",
        "\n",
        "            liveloss_updates = {\n",
        "                'train_accuracy' : torcheval.metrics.functional.multiclass_accuracy(torch.argmax(prediction, dim=-1), train_Y),\n",
        "                'train_loss': loss,\n",
        "            }\n",
        "            liveloss_updates = {k: to_numpy(v) for k, v in liveloss_updates.items()}\n",
        "            liveloss.update(liveloss_updates,\n",
        "                            current_step=i+1)\n",
        "            liveloss.send()\n",
        "\n",
        "    return model"
      ],
      "metadata": {
        "id": "izOGgizd8td4"
      },
      "execution_count": 59,
      "outputs": []
    },
    {
      "cell_type": "code",
      "source": [
        "test_model = train_model(MyNetwork, epochs=10, learning_rate=0.001)"
      ],
      "metadata": {
        "id": "lhBIT4jN_XeG"
      },
      "execution_count": null,
      "outputs": []
    },
    {
      "cell_type": "code",
      "source": [
        "sum(p.numel() for p in test_model.parameters())"
      ],
      "metadata": {
        "id": "aJCVYq4f-_Fq"
      },
      "execution_count": null,
      "outputs": []
    },
    {
      "cell_type": "code",
      "source": [
        "# Make this class implement a neural network with three hidden layers.\n",
        "\n",
        "# YOUR CHANGES HERE\n",
        "\n",
        "class MyThreeHiddenLayerNetwork(torch.nn.Module):\n",
        "    def __init__(self):\n",
        "        super().__init__()\n",
        "\n",
        "        hidden_width = 768\n",
        "\n",
        "        self.fc_0 = torch.nn.Linear(28*28, hidden_width, device=device)\n",
        "        self.fc_1 = torch.nn.Linear(hidden_width, 10, device=device)\n",
        "\n",
        "        self.relu = torch.nn.ReLU()\n",
        "\n",
        "    def forward(self, X):\n",
        "        target_shape = X.shape[:1] + (28*28,)\n",
        "        X = X.reshape(*target_shape)\n",
        "\n",
        "        # first hidden layer\n",
        "        X = self.fc_0(X)\n",
        "        X = self.relu(X)\n",
        "\n",
        "        # output layer is logits - no softmax\n",
        "        X = self.fc_1(X)\n",
        "\n",
        "        return X"
      ],
      "metadata": {
        "id": "nZz3RiioB2Ed"
      },
      "execution_count": 51,
      "outputs": []
    },
    {
      "cell_type": "code",
      "source": [
        "model_3 = train_model(MyThreeHiddenLayerNetwork, epochs=20, learning_rate=0.001)"
      ],
      "metadata": {
        "id": "WAEA8pVeCJz9"
      },
      "execution_count": null,
      "outputs": []
    }
  ]
}